{
 "cells": [
  {
   "cell_type": "code",
   "execution_count": null,
   "metadata": {},
   "outputs": [],
   "source": [
    "import boto3\n",
    "\n",
    "from time import sleep\n",
    "\n",
    "session = boto3.Session( aws_access_key_id= API_KEY, aws_secret_access_key= SECRET_API_KEY, )\n",
    "athena = boto3.client(\"athena\", region_name='us-east-1')"
   ]
  },
  {
   "cell_type": "code",
   "execution_count": null,
   "metadata": {},
   "outputs": [],
   "source": [
    "query = 'SELECT * FROM \"elb_logs_raw_native_[SUFFIX]\" limit 10;'\n",
    "\n",
    "s3_output = 's3://dh-2020-leoferrari/athena-practice/results/'\n",
    "database = 'default'\n",
    "\n",
    "response = athena.start_query_execution(\n",
    "    QueryString=query,\n",
    "    QueryExecutionContext={\n",
    "        'Database': database\n",
    "        },\n",
    "    ResultConfiguration={\n",
    "        'OutputLocation': s3_output,\n",
    "        }\n",
    "    )\n",
    "qe_id = response['QueryExecutionId']\n",
    "print('Execution ID: ' + qe_id)"
   ]
  },
  {
   "cell_type": "code",
   "execution_count": null,
   "metadata": {},
   "outputs": [],
   "source": [
    "status = None\n",
    "while True:\n",
    "    response = athena.get_query_execution(QueryExecutionId=qe_id)\n",
    "    status = response['QueryExecution']['Status']['State']\n",
    "    print(status)\n",
    "    if status != 'RUNNING':\n",
    "        break\n",
    "    sleep(1)\n",
    "print(response['QueryExecution']['ResultConfiguration']['OutputLocation'])"
   ]
  },
  {
   "cell_type": "code",
   "execution_count": null,
   "metadata": {},
   "outputs": [],
   "source": []
  }
 ],
 "metadata": {
  "kernelspec": {
   "display_name": "Python 3",
   "language": "python",
   "name": "python3"
  },
  "language_info": {
   "codemirror_mode": {
    "name": "ipython",
    "version": 3
   },
   "file_extension": ".py",
   "mimetype": "text/x-python",
   "name": "python",
   "nbconvert_exporter": "python",
   "pygments_lexer": "ipython3",
   "version": "3.7.6"
  }
 },
 "nbformat": 4,
 "nbformat_minor": 4
}
