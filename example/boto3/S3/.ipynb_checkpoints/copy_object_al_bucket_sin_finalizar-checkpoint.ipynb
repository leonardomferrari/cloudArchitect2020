{
 "cells": [
  {
   "cell_type": "markdown",
   "metadata": {},
   "source": [
    "\n",
    "### Aun no lo termine !!!"
   ]
  },
  {
   "cell_type": "markdown",
   "metadata": {},
   "source": [
    "\n",
    "### Copiar un objeto al bucket "
   ]
  },
  {
   "cell_type": "code",
   "execution_count": null,
   "metadata": {},
   "outputs": [],
   "source": [
    "import logging\n",
    "import boto3\n",
    "from botocore.exceptions import ClientError\n",
    "\n",
    "# Retrieve the policy of the specified bucket\n",
    "s3 = boto3.client('s3')"
   ]
  },
  {
   "cell_type": "code",
   "execution_count": 29,
   "metadata": {},
   "outputs": [
    {
     "name": "stdout",
     "output_type": "stream",
     "text": [
      "{'ResponseMetadata': {'RequestId': '2BFD47C08BE990FB', 'HostId': 'ki1pKL2WEZfHaEOtjp5gthOvhdbmB1wTIRo/cs+ln+zJXoZqxzlm/varTlHWHaeQUW/lkSmfQKA=', 'HTTPStatusCode': 200, 'HTTPHeaders': {'x-amz-id-2': 'ki1pKL2WEZfHaEOtjp5gthOvhdbmB1wTIRo/cs+ln+zJXoZqxzlm/varTlHWHaeQUW/lkSmfQKA=', 'x-amz-request-id': '2BFD47C08BE990FB', 'date': 'Tue, 16 Jun 2020 05:24:52 GMT', 'etag': '\"f6432274349b5cb93433f8ed886a3f37\"', 'content-length': '0', 'server': 'AmazonS3'}, 'RetryAttempts': 0}, 'ETag': '\"f6432274349b5cb93433f8ed886a3f37\"'}\n"
     ]
    }
   ],
   "source": [
    "#aws s3 sync ./winter/ s3://leof-bucket-with-boto3/\n",
    "\n",
    "#response = s3.copy_object(\n",
    "#    Bucket='leof-bucket-with-boto3',\n",
    "#    CopySource='./winter',\n",
    "#    Key='./winter',\n",
    "#)\n",
    "\n",
    "response = s3.put_object(\n",
    "    Body=b'winter',\n",
    "    Bucket='leof-bucket-with-boto3',\n",
    "    Key='winter',\n",
    ")\n",
    "\n",
    "\n",
    "print(response)"
   ]
  },
  {
   "cell_type": "code",
   "execution_count": null,
   "metadata": {},
   "outputs": [],
   "source": []
  }
 ],
 "metadata": {
  "kernelspec": {
   "display_name": "Python 3",
   "language": "python",
   "name": "python3"
  },
  "language_info": {
   "codemirror_mode": {
    "name": "ipython",
    "version": 3
   },
   "file_extension": ".py",
   "mimetype": "text/x-python",
   "name": "python",
   "nbconvert_exporter": "python",
   "pygments_lexer": "ipython3",
   "version": "3.7.6"
  }
 },
 "nbformat": 4,
 "nbformat_minor": 4
}
