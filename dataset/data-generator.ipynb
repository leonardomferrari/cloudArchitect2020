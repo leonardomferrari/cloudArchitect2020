{
 "cells": [
  {
   "cell_type": "code",
   "execution_count": null,
   "metadata": {},
   "outputs": [],
   "source": [
    "import random\n",
    "\n",
    "print(\"[\")\n",
    "for i in range(100):\n",
    "  for j in range(30):\n",
    "    device = \"device-\" + str(i)\n",
    "    group = \"group-\" + str(i % 10)\n",
    "    minute = j\n",
    "    amps = 890 + random.randint(0, 30)\n",
    "    voltage = 215 + random.randint(0, 10)\n",
    "    temp1 = 45 + random.randint(0, 10)\n",
    "    temp2 = 20 + random.randint(0, 20)\n",
    "    weight1 = 40 + random.randint(0, 20)\n",
    "    weight2 = 12 + random.randint(0, 5)\n",
    "    flow = 35 + random.randint(0, 10)\n",
    "    print(f\"\"\"\n",
    "        {{\n",
    "    \"device\": \"{device}\",\n",
    "    \"group\": \"{group}\",\n",
    "    \"date\": \"01-04-2018T00:{minute}:00.000Z\",\n",
    "    \"measurements\": [\n",
    "      {{\n",
    "    \"inputCurrent\": {amps},\n",
    "        \"unit\": \"amp\"\n",
    "      }},\n",
    "      {{\n",
    "    \"inputVoltage\": {voltage},\n",
    "        \"unit\": \"ac-v\"\n",
    "      }},\n",
    "      {{\n",
    "    \"temp1\": {temp1},\n",
    "        \"unit\": \"c\"\n",
    "      }},\n",
    "      {{\n",
    "    \"temp2\": {temp2},\n",
    "        \"unit\": \"c\"\n",
    "      }},\n",
    "      {{\n",
    "    \"scale1\": {weight1},\n",
    "        \"unit\": \"kg\"\n",
    "      }},\n",
    "      {{\n",
    "    \"scale2\": {weight2},\n",
    "        \"unit\": \"kg\"\n",
    "      }},\n",
    "      {{\n",
    "    \"flow\": {flow},\n",
    "        \"unit\": \"m3/h\"\n",
    "      }}\n",
    "    ]\n",
    "          }}\n",
    "          \"\"\")\n",
    "    if i < 100 and j < 30:\n",
    "      print(\",\")\n",
    "print(\"]\")"
   ]
  }
 ],
 "metadata": {
  "kernelspec": {
   "display_name": "Python 3",
   "language": "python",
   "name": "python3"
  },
  "language_info": {
   "codemirror_mode": {
    "name": "ipython",
    "version": 3
   },
   "file_extension": ".py",
   "mimetype": "text/x-python",
   "name": "python",
   "nbconvert_exporter": "python",
   "pygments_lexer": "ipython3",
   "version": "3.7.3"
  }
 },
 "nbformat": 4,
 "nbformat_minor": 2
}
